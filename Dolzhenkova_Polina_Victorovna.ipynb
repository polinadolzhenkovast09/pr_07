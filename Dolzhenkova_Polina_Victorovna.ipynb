{
  "cells": [
    {
      "cell_type": "markdown",
      "id": "fQSpwlIXNuVp",
      "metadata": {
        "id": "fQSpwlIXNuVp"
      },
      "source": [
        "# Вариант 10"
      ]
    },
    {
      "cell_type": "markdown",
      "id": "86550c71",
      "metadata": {},
      "source": [
        " #\tСоздайте таблицу \"Patient\" с полями \"ID\", \"NAME\", \"AGE\", \"DIAGNOSIS\"."
      ]
    },
    {
      "cell_type": "code",
      "execution_count": 2,
      "id": "be6136b8",
      "metadata": {},
      "outputs": [
        {
          "name": "stdout",
          "output_type": "stream",
          "text": [
            "Таблица 'Patient' успешно создана!\n"
          ]
        }
      ],
      "source": [
        "import psycopg2\n",
        "\n",
        "def get_connection(database_name):\n",
        "    # Функция для получения подключения к базе данных\n",
        "    connection = psycopg2.connect(user=\"postgres\",\n",
        "                                  password=\"1\",\n",
        "                                  host=\"localhost\",\n",
        "                                  port=\"5432\",\n",
        "                                  database=database_name)\n",
        "    return connection\n",
        "\n",
        "def close_connection(connection):\n",
        "    # Функция для закрытия подключения к базе данных\n",
        "    if connection:\n",
        "        connection.close()\n",
        "        print(\"Соединение с PostgreSQL закрыто\")\n",
        "\n",
        "# Подключение к базе данных\n",
        "try:\n",
        "    database_name = 'medical_db'\n",
        "    connection = get_connection(database_name)\n",
        "    cursor = connection.cursor()\n",
        "\n",
        "    # SQL-запрос для создания таблицы\n",
        "    create_table_query = \"\"\"\n",
        "    CREATE TABLE Patient (\n",
        "        ID SERIAL PRIMARY KEY,\n",
        "        NAME VARCHAR(100) NOT NULL,\n",
        "        AGE INT CHECK (AGE > 0),\n",
        "        DIAGNOSIS TEXT\n",
        "    );\n",
        "    \"\"\"\n",
        "\n",
        "    # Выполнение запроса\n",
        "    cursor.execute(create_table_query)\n",
        "    connection.commit()\n",
        "    print(\"Таблица 'Patient' успешно создана!\")\n",
        "\n",
        "except Exception as e:\n",
        "    print(f\"Ошибка: {e}\")\n",
        "\n",
        "finally:\n",
        "    if connection:\n",
        "        cursor.close()\n",
        "        connection.close()\n",
        "\n",
        "\n"
      ]
    },
    {
      "cell_type": "markdown",
      "id": "4e10db50",
      "metadata": {},
      "source": [
        "# Вставьте1 10данных о пациентах"
      ]
    },
    {
      "cell_type": "code",
      "execution_count": 4,
      "id": "09ef741c",
      "metadata": {},
      "outputs": [
        {
          "name": "stdout",
          "output_type": "stream",
          "text": [
            "5 новых пациентов успешно добавлены в таблицу 'Patient'\n",
            "Соединение с PostgreSQL закрыто\n"
          ]
        }
      ],
      "source": [
        "import psycopg2\n",
        "\n",
        "def add_new_patients():\n",
        "    try:\n",
        "        # Подключение к базе данных\n",
        "        connection = psycopg2.connect(\n",
        "            user=\"postgres\",\n",
        "            password=\"1\",\n",
        "            host=\"localhost\",\n",
        "            port=\"5432\",\n",
        "            database=\"medical_db\"\n",
        "        )\n",
        "        cursor = connection.cursor()\n",
        "\n",
        "        # SQL-запрос для добавления данных в таблицу Patient\n",
        "        insert_query = '''\n",
        "        INSERT INTO Patient (ID, NAME, AGE, DIAGNOSIS)\n",
        "        VALUES\n",
        "            (1, 'Alice Johnson', 30, 'Hypertension'),\n",
        "            (2, 'Bob Smith', 25, 'Diabetes'),\n",
        "            (3, 'Charlie Brown', 35, 'Asthma'),\n",
        "            (4, 'Diana Prince', 40, 'Arthritis'),\n",
        "            (5, 'Evan Williams', 50, 'Heart Disease');\n",
        "        '''\n",
        "        cursor.execute(insert_query)\n",
        "        connection.commit()\n",
        "        print(\"5 новых пациентов успешно добавлены в таблицу 'Patient'\")\n",
        "\n",
        "    except psycopg2.Error as error:\n",
        "        print(\"Ошибка при работе с PostgreSQL:\", error)\n",
        "        if connection:\n",
        "            connection.rollback()\n",
        "    finally:\n",
        "        # Закрытие соединения\n",
        "        if connection:\n",
        "            cursor.close()\n",
        "            connection.close()\n",
        "            print(\"Соединение с PostgreSQL закрыто\")\n",
        "\n",
        "# Вызов функции\n",
        "add_new_patients()"
      ]
    },
    {
      "cell_type": "markdown",
      "id": "da9b73a7",
      "metadata": {},
      "source": [
        "# Обновите рабочие часы врача с ID=102"
      ]
    },
    {
      "cell_type": "code",
      "execution_count": 16,
      "id": "eeff46f7",
      "metadata": {},
      "outputs": [
        {
          "name": "stdout",
          "output_type": "stream",
          "text": [
            "Столбец 'Working_Hours' успешно добавлен (если его не было).\n",
            "Рабочие часы врача с ID=102 успешно обновлены на '9:00 AM - 5:00 PM'.\n",
            "Соединение с PostgreSQL закрыто\n"
          ]
        }
      ],
      "source": [
        "import psycopg2\n",
        "\n",
        "def update_doctor_working_hours():\n",
        "    try:\n",
        "        # Подключение к базе данных\n",
        "        connection = psycopg2.connect(\n",
        "            user=\"postgres\",\n",
        "            password=\"1\",\n",
        "            host=\"localhost\",\n",
        "            port=\"5432\",\n",
        "            database=\"medical_db\"\n",
        "        )\n",
        "        cursor = connection.cursor()\n",
        "\n",
        "        # 1. Добавление нового столбца \"Working_Hours\" в таблицу Doctor\n",
        "        add_column_query = '''\n",
        "        ALTER TABLE Doctor\n",
        "        ADD COLUMN IF NOT EXISTS Working_Hours VARCHAR(50);\n",
        "        '''\n",
        "        cursor.execute(add_column_query)\n",
        "        print(\"Столбец 'Working_Hours' успешно добавлен (если его не было).\")\n",
        "\n",
        "        # 2. Обновление рабочих часов врача с ID=2\n",
        "        update_query = '''\n",
        "        UPDATE Doctor\n",
        "        SET Working_Hours = %s\n",
        "        WHERE Doctor_Id = %s;\n",
        "        '''\n",
        "        new_working_hours = \"9:00 AM - 5:00 PM\"  # Новые рабочие часы\n",
        "        doctor_id = 102\n",
        "        cursor.execute(update_query, (new_working_hours, doctor_id))\n",
        "        connection.commit()\n",
        "\n",
        "        # Проверка количества обновленных строк\n",
        "        if cursor.rowcount > 0:\n",
        "            print(f\"Рабочие часы врача с ID={doctor_id} успешно обновлены на '{new_working_hours}'.\")\n",
        "        else:\n",
        "            print(f\"Врач с ID={doctor_id} не найден.\")\n",
        "\n",
        "    except psycopg2.Error as error:\n",
        "        print(\"Ошибка при работе с PostgreSQL:\", error)\n",
        "        if connection:\n",
        "            connection.rollback()\n",
        "    finally:\n",
        "        # Закрытие соединения\n",
        "        if connection:\n",
        "            cursor.close()\n",
        "            connection.close()\n",
        "            print(\"Соединение с PostgreSQL закрыто\")\n",
        "\n",
        "# Вызов функции\n",
        "update_doctor_working_hours()\n",
        "\n",
        "        \n"
      ]
    },
    {
      "cell_type": "markdown",
      "id": "c0a42043",
      "metadata": {},
      "source": [
        "# Обновите специальность врача с ID=104."
      ]
    },
    {
      "cell_type": "code",
      "execution_count": 10,
      "id": "9f088e85",
      "metadata": {},
      "outputs": [
        {
          "name": "stdout",
          "output_type": "stream",
          "text": [
            "Специальность врача с ID=104 успешно обновлена на 'Cardiologist'.\n",
            "Соединение с PostgreSQL закрыто\n"
          ]
        }
      ],
      "source": [
        "import psycopg2\n",
        "\n",
        "def update_doctor_speciality():\n",
        "    try:\n",
        "        # Подключение к базе данных\n",
        "        connection = psycopg2.connect(\n",
        "            user=\"postgres\",\n",
        "            password=\"1\",\n",
        "            host=\"localhost\",\n",
        "            port=\"5432\",\n",
        "            database=\"medical_db\"\n",
        "        )\n",
        "        cursor = connection.cursor()\n",
        "\n",
        "        # SQL-запрос для обновления специальности врача с ID=104\n",
        "        new_speciality = \"Cardiologist\"  # Новая специальность\n",
        "        update_query = '''\n",
        "        UPDATE Doctor\n",
        "        SET Speciality = %s\n",
        "        WHERE Doctor_Id = %s;\n",
        "        '''\n",
        "        cursor.execute(update_query, (new_speciality, 104))\n",
        "        connection.commit()\n",
        "\n",
        "        # Проверка количества обновленных строк\n",
        "        if cursor.rowcount > 0:\n",
        "            print(f\"Специальность врача с ID=104 успешно обновлена на '{new_speciality}'.\")\n",
        "        else:\n",
        "            print(\"Врач с ID=104 не найден.\")\n",
        "\n",
        "    except psycopg2.Error as error:\n",
        "        print(\"Ошибка при работе с PostgreSQL:\", error)\n",
        "        if connection:\n",
        "            connection.rollback()\n",
        "    finally:\n",
        "        # Закрытие соединения\n",
        "        if connection:\n",
        "            cursor.close()\n",
        "            connection.close()\n",
        "            print(\"Соединение с PostgreSQL закрыто\")\n",
        "\n",
        "# Вызов функции\n",
        "update_doctor_speciality()\n",
        "\n"
      ]
    },
    {
      "cell_type": "code",
      "execution_count": null,
      "id": "d758354a",
      "metadata": {},
      "outputs": [],
      "source": []
    }
  ],
  "metadata": {
    "colab": {
      "provenance": []
    },
    "kernelspec": {
      "display_name": "Python 3",
      "language": "python",
      "name": "python3"
    },
    "language_info": {
      "codemirror_mode": {
        "name": "ipython",
        "version": 3
      },
      "file_extension": ".py",
      "mimetype": "text/x-python",
      "name": "python",
      "nbconvert_exporter": "python",
      "pygments_lexer": "ipython3",
      "version": "3.11.9"
    }
  },
  "nbformat": 4,
  "nbformat_minor": 5
}
